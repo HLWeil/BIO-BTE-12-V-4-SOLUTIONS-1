
        {
            "cells": [
          {
           "cell_type": "markdown",
           "metadata": {},
           
           "source": ["// can\u0027t yet format YamlFrontmatter ([\"title: 01 Hello F#\"; \"category: Model solution(english)\"; \"categoryindex: 2\"; \"index: 1\"], Some { StartLine = 2 StartColumn = 0 EndLine = 6 EndColumn = 8 }) to pynb markdown\n",
"\n",
"[![Binder](/BIO-BTE-12-V-4-SOLUTIONS/img/badge-binder.svg)](https://mybinder.org/v2/gh/csbiology/BIO-BTE-12-V-4/gh-pages?filepath=task-solutions/english/wpb-task-01-solution.ipynb)\u0026emsp;\n",
"[![Script](/BIO-BTE-12-V-4-SOLUTIONS/img/badge-script.svg)](/BIO-BTE-12-V-4-SOLUTIONS/task-solutions/english/wpb-task-01-solution.fsx)\u0026emsp;\n",
"[![Notebook](/BIO-BTE-12-V-4-SOLUTIONS/img/badge-notebook.svg)](/BIO-BTE-12-V-4-SOLUTIONS/task-solutions/english/wpb-task-01-solution.ipynb)\n",
"# Task01 - Hello F#\n",
"\n",
"\n",
"-------------------------------\n",
"Let\u0027s start with the basics:\n",
"- **In a .fsx script:** \n",
"    Highlight the \u002710\u0027 and press Alt+Enter, which will open a console and give the output \u0027val it: int = 10\u0027.\n",
"    (If the code to execute has only one line, you can just click into the line and press Alt+Enter without highlighting.)\n",
"- **In a notebook:**\n",
"    There is a \u0027play\u0027 button in the left upper corner of the field below. Press it to execute the respective code block, \n",
"    which in this case will simply give \u002710\u0027 as output. \n",
"    **Note that you always have to end codeblocks in notebooks with the value you want to put out**\n",
"\n"]
          }
,
          {
           "cell_type": "code",
           "metadata": {},
            "execution_count": 1, "outputs": [], 
           "source": ["10\n"]
          }
,
          {
           "cell_type": "markdown",
           "metadata": {},
           
           "source": ["Working in this interactive way has the advantage that you can always directly test your code and look at the output.\n",
"Try it with the line below and appreciate that the result of the calculation is 30.\n",
"\n"]
          }
,
          {
           "cell_type": "code",
           "metadata": {},
            "execution_count": 2, "outputs": [], 
           "source": ["10 + 20\n"]
          }
,
          {
           "cell_type": "markdown",
           "metadata": {},
           
           "source": ["Everything after a `//` or inside of `(* ... *)` is treated as a comment and will not get executed as code.\n",
"You can use `(* ... *)` to comment parts of a single line. \n",
"The standard keybinding for commenting a selection is (Strg + K -\u003e Strg + C)\n",
"\n"]
          }
,
          {
           "cell_type": "code",
           "metadata": {},
            "execution_count": 3, "outputs": [], 
           "source": ["10 (*+ 40 *) + 30\n"]
          }
,
          {
           "cell_type": "markdown",
           "metadata": {},
           
           "source": ["If you not quite get a task right, please submit partial solutions or trails of thought as comments to get partial points!\n",
"## Das \u0027let\u0027-Binding\n",
"## Task 1\n",
"### Task 1.1\n",
"Bind the value 10 to the name \u0027x\u0027. Bind the value 20 to the name \u0027kaesebrot\u0027.\n",
"\n"]
          }
,
          {
           "cell_type": "code",
           "metadata": {},
            "execution_count": 4, "outputs": [], 
           "source": ["let x = 10\n",
"\n",
"let kaesebrot = 20\n"]
          }
,
          {
           "cell_type": "markdown",
           "metadata": {},
           
           "source": ["### Task 1.2\n",
"Bind the result of the Addition of \u0027x\u0027 and 10 to the name \u0027y\u0027.\n",
"\n"]
          }
,
          {
           "cell_type": "code",
           "metadata": {},
            "execution_count": 5, "outputs": [], 
           "source": ["let y = x + 10\n"]
          }
,
          {
           "cell_type": "markdown",
           "metadata": {},
           
           "source": ["### Task 1.3\n",
"Bind any first name as string to \u0027vorname\u0027.\n",
"\n"]
          }
,
          {
           "cell_type": "code",
           "metadata": {},
            "execution_count": 6, "outputs": [], 
           "source": ["let vorname = \"Vorname\"\n"]
          }
,
          {
           "cell_type": "markdown",
           "metadata": {},
           
           "source": ["### Task 1.4\n",
"Calculate the remainder of 432858049/41 and bind the result to \u0027modulo\u0027\n",
"\n"]
          }
,
          {
           "cell_type": "code",
           "metadata": {},
            "execution_count": 7, "outputs": [], 
           "source": ["let modulo = 432858049%41\n"]
          }
,
          {
           "cell_type": "markdown",
           "metadata": {},
           
           "source": ["### Task 1.5\n",
"Binde the sum of both sums (x + 10) and (y + 20) to the Name \u0027sumXY\u0027. \n",
"Die Zwischenergebnisse sollten nicht im globalen Sichtbarkeitsbereich (Scope) liegen.\n",
"\n"]
          }
,
          {
           "cell_type": "code",
           "metadata": {},
            "execution_count": 8, "outputs": [], 
           "source": ["let summeXY =\n",
"    let summeX = x + 10\n",
"    let summeY = y + 20\n",
"    summeX + summeY\n",
"\n",
"// shorter version without intermediate results:\n",
"let summeXY\u0027 = x + 10 + y + 20\n"]
          }
,
          {
           "cell_type": "markdown",
           "metadata": {},
           
           "source": ["## Die \"printfn\" - Funktion\n",
"### Task 2\n",
"_Tipp: https://docs.microsoft.com/de-de/dotnet/fsharp/language-reference/plaintext-formatting_\n",
"### Task 2.1:  \n",
"Use the printfn function to print \"Hello F#\" to the console.\n",
"\n"]
          }
,
          {
           "cell_type": "code",
           "metadata": {},
            "execution_count": 9, "outputs": [], 
           "source": ["printfn \"Hallo F#\"\n"]
          }
,
          {
           "cell_type": "markdown",
           "metadata": {},
           
           "source": ["### Task 2.2:  \n",
"Use the printfn function to print the value of \u0027vorname\u0027 to the console.\n",
"\n"]
          }
,
          {
           "cell_type": "code",
           "metadata": {},
            "execution_count": 10, "outputs": [], 
           "source": ["printfn \"%s\" vorname\n"]
          }
,
          {
           "cell_type": "markdown",
           "metadata": {},
           
           "source": ["### Task 2.3:  \n",
"Use the printfn function to print the value of \u0027y\u0027 to the console.\n",
"\n"]
          }
,
          {
           "cell_type": "code",
           "metadata": {},
            "execution_count": 11, "outputs": [], 
           "source": ["printfn \"%i\" y\n"]
          }
,
          {
           "cell_type": "markdown",
           "metadata": {},
           
           "source": ["## Primitive Datentypen und Funktionen\n",
"### Task 3\n",
"### Task 3.1\n",
"Bind an arbitrary integer value to the name intI.\n",
"\n"]
          }
,
          {
           "cell_type": "code",
           "metadata": {},
            "execution_count": 12, "outputs": [], 
           "source": ["let intI = 1\n"]
          }
,
          {
           "cell_type": "markdown",
           "metadata": {},
           
           "source": ["### Task 3.2\n",
"Bind an arbitrary float value to the name floatI.\n",
"\n"]
          }
,
          {
           "cell_type": "code",
           "metadata": {},
            "execution_count": 13, "outputs": [], 
           "source": ["let floatI = 2.\n"]
          }
,
          {
           "cell_type": "markdown",
           "metadata": {},
           
           "source": ["### Task 3.3\n",
"Convert one of intI or floatI to the data type of the other and sum both up.\n",
"\n"]
          }
,
          {
           "cell_type": "code",
           "metadata": {},
            "execution_count": 14, "outputs": [], 
           "source": ["intI + int floatI\n",
"\n",
"// or:\n",
"float intI + floatI\n"]
          }
,
          {
           "cell_type": "markdown",
           "metadata": {},
           
           "source": ["### Task 3.4\n",
"Calculate the integer division of \u002727\u0027 und \u002713\u0027. Then perform the same operation but on \u002727\u0027 and \u002713\u0027 as float values.\n",
"\n"]
          }
,
          {
           "cell_type": "code",
           "metadata": {},
            "execution_count": 15, "outputs": [], 
           "source": ["27 / 13\n",
"\n",
"float 27 / float 13\n"]
          }
,
          {
           "cell_type": "markdown",
           "metadata": {},
           
           "source": ["### Task 3.5:\n",
"Concatenate an arbitrary string value with an arbitrary char (character)\n",
"\n"]
          }
,
          {
           "cell_type": "code",
           "metadata": {},
            "execution_count": 16, "outputs": [], 
           "source": ["\"myStrin\" + string \u0027g\u0027\n"]
          }
,
          {
           "cell_type": "markdown",
           "metadata": {},
           
           "source": ["### Task 3.6:\n",
"Declare a function named \u0027mulitplyBy2\u0027 that doubles a single input float.\n",
"\n"]
          }
,
          {
           "cell_type": "code",
           "metadata": {},
            "execution_count": 17, "outputs": [], 
           "source": ["let multiplyBy2 (x:float) = 2.0 * x\n"]
          }
,
          {
           "cell_type": "markdown",
           "metadata": {},
           
           "source": ["### Task 3.7:  \n",
"Declare a function named \u0027calculateCylinderVolume\u0027 that takes radius and length of a cylinder as inputs and \n",
"returns the cylinders volume AND additionally prints the message \"The volume of the cylinder is XXX\" (where XXX is the volume)\n",
"Why can it make sense to print values inside a function before returning a value?\n",
"\n"]
          }
,
          {
           "cell_type": "code",
           "metadata": {},
            "execution_count": 18, "outputs": [], 
           "source": ["// Possible answer: The printf function allows visualization of intermediate results.\n",
"let calculateCylinderVolume radius length =\n",
"    let volume = System.Math.PI * radius * radius * length\n",
"    printfn \"The volume of the cylinder is: %f\" volume\n",
"    // The returned value is the same as the value bound to \"volume\"\n",
"    volume\n"]
          }
,
          {
           "cell_type": "markdown",
           "metadata": {},
           
           "source": ["### Task 3.8:  \n",
"Declare a function that takes an integer as input, converts it, and applies the previously defined \u0027multiplyBy2\u0027 function on it.\n",
"\n"]
          }
,
          {
           "cell_type": "code",
           "metadata": {},
            "execution_count": 19, "outputs": [], 
           "source": ["let multiplyBy2Two x = multiplyBy2 (float x)\n"]
          }
,
          {
           "cell_type": "markdown",
           "metadata": {},
           
           "source": ["### Task 3.9:  \n",
"Declare a function that takes the feollowing inputs:\n",
"- two floats\n",
"- a comparison operator (\u003c, \u003e, = )\n",
"- a boolean\n",
"The function should then compare the result of applying the operator to the two \n",
"float inputs with the boolean input and return the result.\n",
"(_2 Points_)\n",
"\n"]
          }
,
          {
           "cell_type": "code",
           "metadata": {},
            "execution_count": 20, "outputs": [], 
           "source": ["let compare (x:float) (y:float) (op: float  -\u003e float -\u003e bool) (boolWert:bool) = \n",
"    let tmp = op x y \n",
"    tmp = boolWert\n"]
          }],
            "metadata": {
            "kernelspec": {"display_name": ".NET (F#)", "language": "F#", "name": ".net-fsharp"},
            "langauge_info": {
        "file_extension": ".fs",
        "mimetype": "text/x-fsharp",
        "name": "C#",
        "pygments_lexer": "fsharp",
        "version": "4.5"
        }
        },
            "nbformat": 4,
            "nbformat_minor": 1
        }
        

