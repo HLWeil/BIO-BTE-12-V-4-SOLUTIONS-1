
        {
            "cells": [
          {
           "cell_type": "markdown",
           "metadata": {},
           
           "source": ["// can\u0027t yet format YamlFrontmatter ([\"title: 03 Control flow\"; \"category: Musterlösungen(deutsch)\"; \"categoryindex: 1\"; \"index: 3\"], Some { StartLine = 2 StartColumn = 0 EndLine = 6 EndColumn = 8 }) to pynb markdown\n",
"\n",
"[![Binder](/BIO-BTE-12-V-4-SOLUTIONS/img/badge-binder.svg)](https://mybinder.org/v2/gh/csbiology/BIO-BTE-12-V-4/gh-pages?filepath=task-solutions/german/wpb-task-03-solution.ipynb)\u0026emsp;\n",
"[![Script](/BIO-BTE-12-V-4-SOLUTIONS/img/badge-script.svg)](/BIO-BTE-12-V-4-SOLUTIONS/task-solutions/german/wpb-task-03-solution.fsx)\u0026emsp;\n",
"[![Notebook](/BIO-BTE-12-V-4-SOLUTIONS/img/badge-notebook.svg)](/BIO-BTE-12-V-4-SOLUTIONS/task-solutions/german/wpb-task-03-solution.ipynb)\n",
"\n",
"# Task03 - Control Flow\n",
"\n",
"\n",
"## If-then-else\n",
"\n",
"### Task 1.1:\n",
"\n",
"Deklariere eine Funktion, die einen Parameter `x` vom Typ float erhaelt. Ist der Wert von `x` groesser Null, so soll die Funktion den Wert zurueckgeben, falls nicht soll das \n",
"Vorzeichen umgekehrt und denn der Wert zerueckgegeben werden.  \n",
"Tipp: Multiplikation\n",
"\n",
"\n"]
          }
,
          {
           "cell_type": "code",
           "metadata": {},
            "execution_count": 1, "outputs": [], 
           "source": ["let myFunc x = \n",
"    if x \u003e 0. then \n",
"        x \n",
"    else \n",
"        x * -1.\n"]
          }
,
          {
           "cell_type": "markdown",
           "metadata": {},
           
           "source": ["### Task 1.2:\n",
"\n",
"Deklariere eine Funktion, die drei Zahlen als Parameter bekommt. Die groesste der drei Zahlen soll als Ergebnis ausgegeben werden.  \n",
"Tipp: `elif`!\n",
"\n",
"\n"]
          }
,
          {
           "cell_type": "code",
           "metadata": {},
            "execution_count": 2, "outputs": [], 
           "source": ["// mit elif und bool-Operatoren\n",
"let myFunc2 x y z =\n",
"    if x \u003e y \u0026\u0026 x \u003e z then\n",
"        x\n",
"    elif y \u003e z then\n",
"        y\n",
"    else z\n",
"\n",
"// ohne elif und bool-Operatoren\n",
"let myFunc2\u0027 x y z =\n",
"    if x \u003e y then\n",
"        if x \u003e z then\n",
"            x\n",
"        else\n",
"            z\n",
"    else\n",
"        if y \u003e z then\n",
"            y\n",
"        else z\n"]
          }
,
          {
           "cell_type": "markdown",
           "metadata": {},
           
           "source": ["### Task 1.3:\n",
"\n",
"Deklariere eine Funktion, die eine Jahreszahl als Parameter bekommt. Wenn es sich um ein Schaltjahr handelt, soll das Ergebnis `true` sein, andernfalls `false`.  \n",
"Tipps:  \n",
"- Ist die Jahreszahl durch vier teilbar, aber nicht durch 100, ist es ein Schaltjahr. 2008 faellt unter diese Regel.  \n",
"- Ist die Jahreszahl durch 100 teilbar, aber nicht durch 400, ist es kein Schaltjahr. 2100 wird kein Schaltjahr sein.  \n",
"- Ist die Jahreszahl durch 400 teilbar, dann ist es immer ein Schaltjahr. Deshalb war das Jahr 2000 ein Schaltjahr.\n",
"\n",
"\n"]
          }
,
          {
           "cell_type": "code",
           "metadata": {},
            "execution_count": 3, "outputs": [], 
           "source": ["let istSchaltjahr jahreszahl =\n",
"    if jahreszahl % 4 = 0 \u0026\u0026 jahreszahl % 100 \u003c\u003e 0 then\n",
"        true\n",
"    elif jahreszahl % 100 = 0 \u0026\u0026 jahreszahl % 400 \u003c\u003e 0 then\n",
"        false\n",
"    elif jahreszahl % 400 = 0 then \n",
"        true\n",
"    else false\n"]
          }
,
          {
           "cell_type": "markdown",
           "metadata": {},
           
           "source": ["## Pattern matching\n",
"\n",
"### Task 2.1:\n",
"\n",
"Deklariere eine Funktion mit denselben Eigenschaften wie in Task 1.1 beschrieben. Verzichte auf if-then-else Expressions und verwende Pattern Matching.  \n",
"Tipp: Guarding Rules + Wildcard\n",
"\n",
"\n"]
          }
,
          {
           "cell_type": "code",
           "metadata": {},
            "execution_count": 4, "outputs": [], 
           "source": ["let myFunc3 x =\n",
"    match x with\n",
"    | a when a \u003e 0. -\u003e x\n",
"    | _             -\u003e x * -1.\n"]
          }
,
          {
           "cell_type": "markdown",
           "metadata": {},
           
           "source": ["### Task 2.2:\n",
"\n",
"Gegeben ist die UnionCase Definition `Monat`:\n",
"```fsharp\n",
"type Monat =\n",
"    | Januar\n",
"    | Februar\n",
"    | Maerz\n",
"    | April\n",
"    | Mai\n",
"    | Juni\n",
"    | Juli\n",
"    | August\n",
"    | September\n",
"    | Oktober\n",
"    | November\n",
"    | Dezember\n",
"```\n",
"\n",
"und die UnionCase Definition `Jahreszeit`:\n",
"```fsharp\n",
"type Jahreszeit =\n",
"    | Fruehling\n",
"    | Sommer\n",
"    | Herbst\n",
"    | Winter\n",
"```\n",
"\n",
"Deklariere eine Funktion, die einen Parameter `m` vom Typ `Monat` besitzt. Verwende Pattern Matching, um jeden\n",
"Monat einer Jahreszeit zuzuordnen.\n",
"\n",
"\n"]
          }
,
          {
           "cell_type": "code",
           "metadata": {},
            "execution_count": 5, "outputs": [], 
           "source": ["type Monat =\n",
"    | Januar\n",
"    | Februar\n",
"    | Maerz\n",
"    | April\n",
"    | Mai\n",
"    | Juni\n",
"    | Juli\n",
"    | August\n",
"    | September\n",
"    | Oktober\n",
"    | November\n",
"    | Dezember\n",
"type Jahreszeit =\n",
"    | Fruehling\n",
"    | Sommer\n",
"    | Herbst\n",
"    | Winter\n",
"\n",
"\n",
"let monatZuJahreszeit m =\n",
"    match m with\n",
"    | Dezember  | Januar    | Februar   -\u003e Winter\n",
"    | Maerz     | April     | Mai       -\u003e Fruehling\n",
"    | Juni      | Juli      | August    -\u003e Sommer\n",
"    | _                                 -\u003e Herbst\n"]
          }
,
          {
           "cell_type": "markdown",
           "metadata": {},
           
           "source": ["### Task 2.3:\n",
"\n",
"Pattern matching ist sehr gut dazu geeignet Datenstrukturen zu zerlegen (eng. deconstruction). Deklariere eine\n",
"Funktion, die den Record type `Person` (bekannt aus Uebung 2) erhaelt und `true` zurueckgibt, falls der Nachname `Mueller` lautet.  \n",
"Tipp: https://docs.microsoft.com/en-us/dotnet/fsharp/language-reference/records#pattern-matching-with-records\n",
"\n",
"\n"]
          }
,
          {
           "cell_type": "code",
           "metadata": {},
            "execution_count": 6, "outputs": [], 
           "source": ["type Person = {\n",
"    Name    : string\n",
"    Alter   : int\n",
"}\n",
"\n",
"let istNameMueller person =\n",
"    match person.Name with\n",
"    | \"Mueller\" -\u003e true\n",
"    | _         -\u003e false\n"]
          }
,
          {
           "cell_type": "markdown",
           "metadata": {},
           
           "source": ["## Schleifen\n",
"\n",
"### Task 3.1:\n",
"\n",
"Deklariere eine Funktion, die einen Parameter `n` vom Typ `int` erhaelt.  \n",
"Die Funktion soll alle ganzen Zahlen von 1 bis n in der Konsole ausgeben (Tipp: `printfn`). Benutze dafuer eine `for`-Loop.\n",
"\n",
"\n"]
          }
,
          {
           "cell_type": "code",
           "metadata": {},
            "execution_count": 7, "outputs": [], 
           "source": ["let myFunc4 n =\n",
"    for i = 1 to n do\n",
"        printfn \"%i\" i\n"]
          }
,
          {
           "cell_type": "markdown",
           "metadata": {},
           
           "source": ["### Task 3.2:\n",
"\n",
"Deklariere eine Funktion, die einen Parameter `n` vom Typ `int` erhaelt.  \n",
"Die Funktion soll alle ganzen Zahlen von 1 bis n in einer Liste speichern.  \n",
"Tipps: Sequence Expressions, Comprehensions  \n",
"Extra Punkt: schreibe nur alle geraden Zahlen in eine Liste, Tipps: if-then-else, modulo.\n",
"\n",
"\n"]
          }
,
          {
           "cell_type": "code",
           "metadata": {},
            "execution_count": 8, "outputs": [], 
           "source": ["let myFunc5 n =\n",
"    [for i = 1 to n do i] // veraltet: [for i = 1 to n do yield i]\n",
"\n",
"let myFunc5E n =\n",
"    [for i = 1 to n do \n",
"        if i % 2 = 0 then i]\n"]
          }
,
          {
           "cell_type": "markdown",
           "metadata": {},
           
           "source": ["### Task 3.3:\n",
"\n",
"Deklariere eine Funktion, die einen Parameter `n` vom Typ `int` und einen Parameter `f` mit der Signatur `(int -\u003e int)` erhaelt.  \n",
"Die Funktion soll `f` auf alle ganzen Zahlen von 1 bis n anwenden und in einer in einer Liste speichern.  \n",
"Tipps: Sequence Expressions, Comprehensions\n",
"\n",
"\n"]
          }
,
          {
           "cell_type": "code",
           "metadata": {},
            "execution_count": 9, "outputs": [], 
           "source": ["let myFunc6 n (f : int -\u003e int) =\n",
"    [for i = 1 to n do f i]\n"]
          }
,
          {
           "cell_type": "markdown",
           "metadata": {},
           
           "source": ["## Rekursion\n",
"\n",
"### Task 4.1:\n",
"\n",
"Modifiziere folgende Funktion (bekannt aus der Vorlesung) so, dass sie am Ende ausgibt wie viele Stufen bewaeltigt wurden.\n",
"```fsharp\n",
"let rec stufeSteigen nStufen position =\n",
"    if position = nStufen + 1 then\n",
"        printfn \"Puh, geschafft\"\n",
"    else\n",
"        printfn \"Ich sollte mehr Sport machen\"\n",
"        stufeSteigen nStufen (position + 1)\n",
"```\n",
"\n",
"\n"]
          }
,
          {
           "cell_type": "code",
           "metadata": {},
            "execution_count": 10, "outputs": [], 
           "source": ["let rec stufeSteigen nStufen aktPosition startPosition =\n",
"    if aktPosition = nStufen + 1 then\n",
"        printfn \"Puh, geschafft. Das waren immerhin %i Stufen!\" (nStufen - startPosition)\n",
"    else\n",
"        printfn \"Ich sollte mehr Sport machen\"\n",
"        stufeSteigen nStufen (aktPosition + 1) startPosition\n",
"\n",
"let stufeSteigen\u0027 nStufen position =\n",
"    let rec loop positionLoop =\n",
"        if positionLoop = nStufen + 1 then\n",
"            printfn \"Puh, geschafft. Das waren immerhin %i Stufen!\" (nStufen - position)\n",
"        else\n",
"            printfn \"Ich sollte mehr Sport machen\"\n",
"            loop (positionLoop + 1)\n",
"    loop position\n"]
          }
,
          {
           "cell_type": "markdown",
           "metadata": {},
           
           "source": ["### Task 4.2:\n",
"\n",
"Modifiziere die folgende Funktion (bekannt aus der Vorlesung) so, dass sie -1 zurueckgibt, falls abzusehen ist, dass das Ergebnis groesser als 1000 wird.  \n",
"Tipp: Hier hilft die `print`-Funktion um Zwischenergebnisse zu visualisieren und die Funktion besser zu verstehen. Z. B.: `printfn \"n:%i, acc\u0027:%i\" n acc`.\n",
"```fsharp\n",
"let rec facultaet acc n  =\n",
"    if n = 1 then\n",
"        acc \n",
"    else\n",
"        let acc\u0027 = n * acc\n",
"        facultaet acc\u0027 (n - 1)\n",
"\n",
"facultaet 1 4\n",
"```\n",
"\n",
"\n"]
          }
,
          {
           "cell_type": "code",
           "metadata": {},
            "execution_count": 11, "outputs": [], 
           "source": ["let rec facultaet acc n  =\n",
"    if n = 1 then\n",
"        acc \n",
"    elif acc * n \u003e 1000 then\n",
"        -1\n",
"    else\n",
"        let acc\u0027 = n * acc\n",
"        facultaet acc\u0027 (n - 1)\n"]
          }],
            "metadata": {
            "kernelspec": {"display_name": ".NET (F#)", "language": "F#", "name": ".net-fsharp"},
            "langauge_info": {
        "file_extension": ".fs",
        "mimetype": "text/x-fsharp",
        "name": "C#",
        "pygments_lexer": "fsharp",
        "version": "4.5"
        }
        },
            "nbformat": 4,
            "nbformat_minor": 1
        }
        

