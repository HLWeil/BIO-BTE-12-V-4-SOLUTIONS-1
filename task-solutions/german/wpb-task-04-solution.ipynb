
        {
            "cells": [
          {
           "cell_type": "markdown",
           "metadata": {},
           
           "source": ["// can\u0027t yet format YamlFrontmatter ([\"title: 04 Programming with functions\"; \"category: Musterlösungen(deutsch)\"; \"categoryindex: 1\"; \"index: 4\"], Some { StartLine = 2 StartColumn = 0 EndLine = 6 EndColumn = 8 }) to pynb markdown\n",
"\n",
"[![Binder](/BIO-BTE-12-V-4-SOLUTIONS/img/badge-binder.svg)](https://mybinder.org/v2/gh/csbiology/BIO-BTE-12-V-4/gh-pages?filepath=task-solutions/german/wpb-task-04-solution.ipynb)\u0026emsp;\n",
"[![Script](/BIO-BTE-12-V-4-SOLUTIONS/img/badge-script.svg)](/BIO-BTE-12-V-4-SOLUTIONS/task-solutions/german/wpb-task-04-solution.fsx)\u0026emsp;\n",
"[![Notebook](/BIO-BTE-12-V-4-SOLUTIONS/img/badge-notebook.svg)](/BIO-BTE-12-V-4-SOLUTIONS/task-solutions/german/wpb-task-04-solution.ipynb)\n",
"\n",
"\n",
"# Task04 - Programming with functions\n",
"\n",
"## Funktionen höherer Ordnung\n",
"\n",
"### Task 1.1:\n",
"\n",
"Schreibe folgende Funktion mit Hilfe des Pipe-Operators `|\u003e` und den angegebenen Funktionen.\n",
"\n",
"Tipp: \n",
"\n",
"  - Der Pipeoperator setzt den Parameter links vom Operator ans Ende der rechten Seite: \n",
"\n",
"  - `a |\u003e add b` ist gleichbedeutend mit `add b a`\n",
"\n",
"\n"]
          }
,
          {
           "cell_type": "code",
           "metadata": {},
            "execution_count": 1, "outputs": [], 
           "source": ["let mathNotation x y = ((2. + 3. * (x + 1.))**2.) * y\n",
"\n",
"\n",
"let add (a:float) b = a + b\n",
"let square (x :float) = x * x\n",
"let multiply (a:float) b = a * b\n",
"\n",
"\n",
"let pipeNotation x y =\n",
"    x\n",
"    |\u003e add 1.\n",
"    |\u003e multiply 3.\n",
"    |\u003e add 2.\n",
"    |\u003e square\n",
"    |\u003e multiply y\n",
"\n",
"// Test ob beide notationen das gleiche Ergebnis erzeugen\n",
"pipeNotation 1. 7. = mathNotation 1. 7.\n"]
          }
,
          {
           "cell_type": "markdown",
           "metadata": {},
           
           "source": ["### Task 1.2\n",
"\n",
"Deklariere eine beliebige Funktion mit der Signatur `int -\u003e int -\u003e int`. Achte darauf, dass alle Parameter im Funktionskörper verwendet werden.\n",
"\n",
"Ist dies eine Funktion erster Ordnung oder eine Funktion höherer Ordnung?\n",
"\n",
"\n",
"\n"]
          }
,
          {
           "cell_type": "code",
           "metadata": {},
            "execution_count": 2, "outputs": [], 
           "source": ["let subtract a b = a - b\n",
"//  Funktion 1. Ordnung \n"]
          }
,
          {
           "cell_type": "markdown",
           "metadata": {},
           
           "source": ["### Task 1.3\n",
"\n",
"Deklariere eine beliebige Funktion mit der Signatur `int -\u003e int -\u003e (int -\u003e int -\u003e int) -\u003e float`. Achte darauf, dass alle Parameter verwendet werden.\n",
"\n",
"Ist dies eine Funktion erster Ordnung oder eine Funktion höherer Ordnung?\n",
"\n"]
          }
,
          {
           "cell_type": "code",
           "metadata": {},
            "execution_count": 3, "outputs": [], 
           "source": ["let testFunction a b (f:int -\u003e int -\u003e int) =\n",
"    f a b\n",
"    |\u003e float\n",
"\n",
"// Funktion höherer Ordnung\n"]
          }
,
          {
           "cell_type": "markdown",
           "metadata": {},
           
           "source": ["### Task 1.4\n",
"\n",
"Rufe die in `1.3` erstellte Funktion auf. Nutze als Parameter zwei beliebige Werte sowie die Funktion aus `1.2`.\n",
"\n",
"\n"]
          }
,
          {
           "cell_type": "code",
           "metadata": {},
            "execution_count": 4, "outputs": [], 
           "source": ["testFunction 2 4 subtract\n"]
          }
,
          {
           "cell_type": "markdown",
           "metadata": {},
           
           "source": ["## Programmieren mit Funktionen\n",
"\n",
"### Task 2.1.1\n",
"\n",
"Unten siehst du einen record type mit dem Namen `Cat`. \n",
"Erstelle zwei beliebige Werte des Typs `Cat` und binde sie an beliebige Namen.\n",
"Schaut euch `Übung 02` an, falls es hier Schwierigkeiten geben sollte.\n",
"\n",
"\n",
"\n"]
          }
,
          {
           "cell_type": "code",
           "metadata": {},
            "execution_count": 5, "outputs": [], 
           "source": ["type Cat = {\n",
"    Name    : string\n",
"    Weight  : float\n",
"    Color   : string\n",
"    Age     : int}\n",
"\n",
"let createCat n w c a = {Name=n;Weight=w;Color=c;Age=a}\n",
"\n",
"let paul = createCat \"Paulchen\" 4.2 \"black\" 6\n",
"let lisa = createCat \"Lischen\" 3.3 \"red\" 2\n"]
          }
,
          {
           "cell_type": "markdown",
           "metadata": {},
           
           "source": ["### Task 2.1.2\n",
"\n",
"Deklariere eine Funktion mit dem Namen `getWeight`, die als Parameter eine `Cat` erhält und deren Gewicht zurück gibt. \n",
"\n",
"\n"]
          }
,
          {
           "cell_type": "code",
           "metadata": {},
            "execution_count": 6, "outputs": [], 
           "source": ["let getWeight cat = cat.Weight\n"]
          }
,
          {
           "cell_type": "markdown",
           "metadata": {},
           
           "source": ["### Task 2.1.3\n",
"\n",
"Du kannst keine mathematischen Standard-Operatoren auf record typen anwenden. \n",
"Deklariere eine Funktion mit dem Namen `applyToWeight`, die zwei Parameter vom Typ `Cat` (c1 und c2) und einen Parameter vom Typ `(float -\u003e float -\u003e float)` (f) erhält. \n",
"Im Funktionskörper soll die Funktion f auf die Gewichte der beiden Katzen c1 und c2 angewendet werden.\n",
"\n",
"Tipp: Definiere die Typen der Parameter. \n",
"\n",
"\n",
"\n"]
          }
,
          {
           "cell_type": "code",
           "metadata": {},
            "execution_count": 7, "outputs": [], 
           "source": ["let applyToWeight (c1:Cat) c2 (f:float -\u003e float -\u003e float) =\n",
"    f c1.Weight c2.Weight\n"]
          }
,
          {
           "cell_type": "markdown",
           "metadata": {},
           
           "source": ["### Task 2.1.4\n",
"\n",
"Wende die Funktion `applyToWeight` mit den zuvor erstellten `Cats` und der Funktion `averageOfTwo` an.  \n",
"\n",
"\n",
"\n"]
          }
,
          {
           "cell_type": "code",
           "metadata": {},
            "execution_count": 8, "outputs": [], 
           "source": ["let averageOfTwo (a:float) b =\n",
"    (a + b) / 2.\n",
"\n",
"applyToWeight paul lisa averageOfTwo\n"]
          }
,
          {
           "cell_type": "markdown",
           "metadata": {},
           
           "source": ["### Task 2.2 (optional)\n",
"\n",
"Diese Aufgabe muss nicht gelöst werden! Sie dient dazu eine `Cat list` zu erstellen, die an späterer Stelle benötigt wird.\n",
"Wenn du willst, kannst du kommentieren was in den angegebenen Zeilen geschieht (Extrapunkt)\n",
"\n",
"\n",
"\n"]
          }
,
          {
           "cell_type": "code",
           "metadata": {},
            "execution_count": 9, "outputs": [], 
           "source": ["// Dies ist ein Zufallsgenerator. \n",
"// Mit randomNumberGenerator.NextDouble() kann nun ein zufälliger float zwischen 0. und 1. erstellt werden.\n",
"// Mit randomNumberGenerator.Next(x) kann nun ein zufälliger int zwischen 0 und x-1 erstellt werden.\n",
"let randomNumberGenerator = System.Random()\n",
"\n",
"// Nachfolgend ist eine Funktion dargestellt, die einen Wert vom Typ Cat erstellt.\n",
"let createRandomCat (i :int) = \n",
"    // Kommentar: An \u0027name\u0027 wird ein string gebunden, der aus dem Zusammenschluss aus \"Cat \" und dem Parameter i (integer) besteht, der zu einem string umgewandelt wird.\n",
"    let name   = \"Cat \" + string i \n",
"    // Kommentar: An \u0027age\u0027 wird ein integer gebunden, der eine zufaellige Zahl zwischen 0 und 15 ist.\n",
"    let age    = randomNumberGenerator.Next(16)\n",
"    // Kommentar: An \u0027weight\u0027 wird ein float gebunden, der aus einer Berechnung (3+5x) mit einem zufaelligen Wert zwischen 0. und 1. ensteht.\n",
"    let weight = 3. + 5. * randomNumberGenerator.NextDouble()\n",
"    let color  = \n",
"        let colors = [\"white\";\"red\";\"black\";\"grey\";\"mixed\"]\n",
"        // Kommentar: Das \u0027colors\u0027 Array ist 5 Elemente lang. Der Index der zu waehlenden Farbe wird durch modulo 5 bestimmt.\n",
"        // Wenn i \u003e 4, dann liegt der Teilungs-Rest zwischen 0 und 4. Damit ist fuer jeden integer eine Farbe definiert.\n",
"        colors.[i%5]\n",
"    // Kommentar: Hier wird ein Wert des Typs Cat mithilfe der zuvor erstellten Wertebindung erstellt (instantiiert).\n",
"    {\n",
"    Name    = name\n",
"    Weight  = weight\n",
"    Color   = color   \n",
"    Age     = age\n",
"    }\n",
"\n",
"// Kommentar: Hier wird eine Cat-Liste erstellt, die 60 random cats enthaelt\n",
"let catList = [for i=1 to 60 do yield createRandomCat i]\n"]
          }
,
          {
           "cell_type": "markdown",
           "metadata": {},
           
           "source": ["### Task 2.3\n",
"\n",
"Erstelle eine float List mit den Werten von 0. bis 100. und binde sie an den Namen `nList`.\n",
"\n",
"\n",
"\n"]
          }
,
          {
           "cell_type": "code",
           "metadata": {},
            "execution_count": 10, "outputs": [], 
           "source": ["let nList = [1. .. 100.]\n"]
          }
,
          {
           "cell_type": "markdown",
           "metadata": {},
           
           "source": ["### Task 2.4\n",
"\n",
"Mit map-Funktionen kann man eine Funktion, die auf einzelnen Elementen angewendet werden kann auf alle Elemente einer Liste anwenden.\n",
"Parameter der `map`-Funktion:\n",
"\n",
"  1. `doSomethingWithX`:  Funktion, die auf jedes Listenelement angewendet werden soll\n",
"\n",
"  2. `list`:              Liste der Elemente, auf die `doSomeThingWithX` angewendet werden soll\n",
"\n",
"Die `List.map` Funktion wird dann folgendermaßen angewendet:\n",
"\n",
"  - `List.map (fun listElement -\u003e doSomethingWithX listElement) list`\n",
"\n",
"Wende auf jedes Element von `nList` die Funktion `square` (Task 1.1) an. Binde das Ergebnis an den Namen `nListSquared`.\n",
"\n",
"\n"]
          }
,
          {
           "cell_type": "code",
           "metadata": {},
            "execution_count": 11, "outputs": [], 
           "source": ["let nListSquared = List.map (fun x -\u003e square x) nList\n"]
          }
,
          {
           "cell_type": "markdown",
           "metadata": {},
           
           "source": ["### Task 2.5\n",
"\n",
"Extrahiere alle Gewichte aus \u0027catList\u0027 und binde sie an den Namen `catWeights`.\n",
"\n",
"\n",
"\n"]
          }
,
          {
           "cell_type": "code",
           "metadata": {},
            "execution_count": 12, "outputs": [], 
           "source": ["let catWeights = catList |\u003e List.map (fun x -\u003e x.Weight)\n"]
          }
,
          {
           "cell_type": "markdown",
           "metadata": {},
           
           "source": ["### Task 2.6\n",
"\n",
"Berechne die Summe der Werte aus `nList`. \n",
"\n",
"Tipp: Durchsuche das `List`-Modul nach einer passenden Funktion.\n",
"\n",
"\n"]
          }
,
          {
           "cell_type": "code",
           "metadata": {},
            "execution_count": 13, "outputs": [], 
           "source": ["List.sum nList\n"]
          }
,
          {
           "cell_type": "markdown",
           "metadata": {},
           
           "source": ["### Task 2.7\n",
"\n",
"Filtere alle Listenelemente, die durch 15 teilbar sind.\n",
"\n",
"Tipp1: Nutze `List.filter` und die angegebene Funktion.\n",
"\n"]
          }
,
          {
           "cell_type": "code",
           "metadata": {},
            "execution_count": 14, "outputs": [], 
           "source": ["let isDivisibleWithoutRemainder denumerator numerator = \n",
"     numerator % denumerator = 0.\n",
"\n",
"List.filter (isDivisibleWithoutRemainder 15.) nList\n"]
          }
,
          {
           "cell_type": "markdown",
           "metadata": {},
           
           "source": ["### Task 2.8\n",
"\n",
"Berechne die Summe der Quadrate der einzelnen Werte aus nList.\n",
"Versuche dieses in einem Schritt mit `List.fold` zu erreichen.\n",
"\n"]
          }
,
          {
           "cell_type": "code",
           "metadata": {},
            "execution_count": 15, "outputs": [], 
           "source": ["List.fold (fun acc x -\u003e acc + square x) 0. nList\n"]
          }
,
          {
           "cell_type": "markdown",
           "metadata": {},
           
           "source": ["### Task 2.9\n",
"\n",
"Berechne das Durchschnittsgewicht der Katzen aus `catList`. \n",
"\n",
"Tipp: Die Aufgabe kann entweder durch die Nutzung von Funktionen aus dem `List`-Modul gelöst werden, oder man löst sie durch eine einzige fold Funktion (für Experten).\n",
"\n"]
          }
,
          {
           "cell_type": "code",
           "metadata": {},
            "execution_count": 16, "outputs": [], 
           "source": ["List.average catWeights\n",
"\n",
"List.fold (fun acc x -\u003e acc + (x / float catWeights.Length)) 0. catWeights\n"]
          }],
            "metadata": {
            "kernelspec": {"display_name": ".NET (F#)", "language": "F#", "name": ".net-fsharp"},
            "langauge_info": {
        "file_extension": ".fs",
        "mimetype": "text/x-fsharp",
        "name": "C#",
        "pygments_lexer": "fsharp",
        "version": "4.5"
        }
        },
            "nbformat": 4,
            "nbformat_minor": 1
        }
        

