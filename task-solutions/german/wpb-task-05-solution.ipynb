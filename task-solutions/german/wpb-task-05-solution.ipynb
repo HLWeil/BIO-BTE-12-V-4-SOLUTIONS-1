
        {
            "cells": [
          {
           "cell_type": "markdown",
           "metadata": {},
           
           "source": ["[![Binder](/BIO-BTE-12-V-4-SOLUTIONS/img/badge-binder.svg)](https://mybinder.org/v2/gh/csbiology/BIO-BTE-12-V-4/gh-pages?filepath=task-solutions/german/wpb-task-05-solution.ipynb)\u0026emsp;\n",
"[![Script](/BIO-BTE-12-V-4-SOLUTIONS/img/badge-script.svg)](/BIO-BTE-12-V-4-SOLUTIONS/task-solutions/german/wpb-task-05-solution.fsx)\u0026emsp;\n",
"[![Notebook](/BIO-BTE-12-V-4-SOLUTIONS/img/badge-notebook.svg)](/BIO-BTE-12-V-4-SOLUTIONS/task-solutions/german/wpb-task-05-solution.ipynb)\n",
"\n",
"# Task05 - Programming with Objects \n",
"\n",
"## Veränderliche Werte\n",
"\n",
"### Task 1.1:\n",
"\n",
"Erstellen und Verändern von veränderlichen Werten\n",
"\n",
"Tipp: \n",
"\n",
"- Benutzt das `mutable` keyword\n",
"- Zur Veränderung der Werte wird der `\u003c-` Operator verwendet\n",
"\n",
"### Subtask 1.1.1\n",
"\n",
"Erstelle einen veränderlichen Integer mit dem Wert 1 und bindet ihn an den Namen x\n",
"\n",
"\n",
"\n"]
          }
,
          {
           "cell_type": "code",
           "metadata": {},
            "execution_count": 1, "outputs": [], 
           "source": ["let mutable x = 1\n"]
          }
,
          {
           "cell_type": "markdown",
           "metadata": {},
           
           "source": ["### Subtask 1.1.2\n",
"\n",
"Verändere den Wert der an x gebunden ist indem ihr den Wert den x trägt mit 5 multipliziert \n",
"\n",
"\n"]
          }
,
          {
           "cell_type": "code",
           "metadata": {},
            "execution_count": 2, "outputs": [], 
           "source": ["x \u003c- (x * 5)\n"]
          }
,
          {
           "cell_type": "markdown",
           "metadata": {},
           
           "source": ["### Subtask 1.1.3\n",
"\n",
"Erstelle einen Record Type `Mensch` mit \n",
"\n",
"- dem unveränderlichen Feld `Name` vom Typ string\n",
"- und dem veränderlichen Feld `Alter` vom Typ int\n",
"\n",
"\n"]
          }
,
          {
           "cell_type": "code",
           "metadata": {},
            "execution_count": 3, "outputs": [], 
           "source": ["type Mensch =\n",
"    {\n",
"        Name : string\n",
"        mutable Alter : int\n",
"    }\n"]
          }
,
          {
           "cell_type": "markdown",
           "metadata": {},
           
           "source": ["### Subtask 1.1.4\n",
"\n",
"Erstelle die Funktion `geburtstagFeiern` die als Parameter einen Wert des Typen `Mensch` erhält und das Alter des Menschen um eins erhöht\n",
"\n",
"\n"]
          }
,
          {
           "cell_type": "code",
           "metadata": {},
            "execution_count": 4, "outputs": [], 
           "source": ["let geburtstagFeiern (m : Mensch) =\n",
"    m.Alter \u003c- m.Alter + 1\n"]
          }
,
          {
           "cell_type": "markdown",
           "metadata": {},
           
           "source": ["### Subtask 1.1.5\n",
"\n",
"Erstelle einen Menschen, binde ihn an einen Namen und lass diesen erstellten Menschen mit der Funktion `geburtstagFeiern` altern.\n",
"\n",
"\n"]
          }
,
          {
           "cell_type": "code",
           "metadata": {},
            "execution_count": 5, "outputs": [], 
           "source": ["let mensch1 = { Name = \"Max\"; Alter = 22 }\n",
"\n",
"geburtstagFeiern mensch1\n"]
          }
,
          {
           "cell_type": "markdown",
           "metadata": {},
           
           "source": ["### Task 1.2 (Bonusaufgabe) Veränderliche Werte in Funktionen\n",
"\n",
"Erstelle eine eigene Version der `Array.max` Funktion. Diese Funktion soll ein Array von ints erhalten und den größten der ints zurückgeben.\n",
"Signatur: `int [] -\u003e int`\n",
"\n",
"Dabei soll der aktuell größte int ein `veränderlicher Wert` sein und es soll eine `for-Schleife` verwendet werden.\n",
"\n",
"\n"]
          }
,
          {
           "cell_type": "code",
           "metadata": {},
            "execution_count": 6, "outputs": [], 
           "source": ["let arrayMax (array : int[]) = \n",
"    let mutable maxValue = array.[0] \n",
"    for i in array do\n",
"        if i \u003e maxValue then\n",
"            maxValue \u003c- i\n",
"    maxValue\n",
"\n",
"let arrayMax2 (array : int[]) = \n",
"    let mutable maxValue = array.[0] \n",
"    for i = 1 to array.Length - 1 do\n",
"        if array.[i] \u003e maxValue then\n",
"            maxValue \u003c- array.[i]\n",
"    maxValue\n",
"\n",
"let array1 = [|4; 23; 6; 4; 7|]\n",
"\n",
"arrayMax array1\n",
"arrayMax2 array1\n"]
          }
,
          {
           "cell_type": "markdown",
           "metadata": {},
           
           "source": ["## Vererbung\n",
"\n",
"### Task 2.1 Erstellen von Klassen und Objekten\n",
"\n",
"### Subtask 2.1.1\n",
"\n",
"Im folgenden wird die Klasse `Fahrzeug` erstellt. Versuche nachzuvollziehen, was passiert und kommentiere jede Zeile kurz\n",
"\n",
"Keywortfundgrube: Methode, Feld, Konstruktor, Parameter, alternativ, binden\n",
"\n",
"\n",
"\n"]
          }
,
          {
           "cell_type": "code",
           "metadata": {},
            "execution_count": 7, "outputs": [], 
           "source": ["// Kommentar: Es wird eine Klasse namens `Fahrzeug` erstellt, deren Hauptkonstruktor einen Parameter namens `hersteller` vom Typ string erhält\n",
"type Fahrzeug (hersteller:string) =\n",
"    // Kommentar: Ein Feld namens `Hersteller` wird definiert, an das der Wert des parameters `hersteller` gebunden wird\n",
"    member self.Hersteller = hersteller\n",
"    // Kommentar: Es wird eine parameterlose Methode namens `Fahren` definiert, welche über die Selbstreferenz das Feld `Hersteller` verwendet\n",
"    member self.Fahren() = printfn \"%s macht brumm brumm\" self.Hersteller\n",
"    // Kommentar: Ein parameterloser alternativer Konstruktor wird erstellt.\n",
"    new() = Fahrzeug(\"VW\")\n"]
          }
,
          {
           "cell_type": "markdown",
           "metadata": {},
           
           "source": ["### Subtask 2.1.2\n",
"\n",
"Instanziiere 2 Objekte des Typs `Fahrzeug`. Verwende einmal den den Haupt- und einmal den alternativen Konstruktor\n",
"\n",
"\n"]
          }
,
          {
           "cell_type": "code",
           "metadata": {},
            "execution_count": 8, "outputs": [], 
           "source": ["let car1 = new Fahrzeug(\"Ford\")\n",
"\n",
"let car2 = new Fahrzeug()\n"]
          }
,
          {
           "cell_type": "markdown",
           "metadata": {},
           
           "source": ["### Task 2.2 Vererbung\n",
"\n",
"### Subtask 2.2.1\n",
"\n",
"Hier ist ein Beispiel für die Vererbung eines Typen, namentlich der Typ `Motorrad` der vom Typ `Fahrzeug` erbt. \n",
"\n",
"Erstelle analog einen Typen `Auto`, der auch vom Typ `Fahrzeug` erben soll. Dieser Typ soll aber zusätzlich das Feld `AnzahlTueren` enthalten. \n",
"Wähle hierzu einen passenden primitiven Typen und passe auch den Konstruktor an, sodass diese Anzahl der Türen auch beim Instanziieren gesetzt werden kann.\n",
"\n",
"\n"]
          }
,
          {
           "cell_type": "code",
           "metadata": {},
            "execution_count": 9, "outputs": [], 
           "source": ["type Motorrad (hersteller:string) =\n",
"\n",
"    inherit Fahrzeug(hersteller)\n",
"\n",
"    new() = Motorrad(\"Kawasaki\")\n",
"\n",
"type Auto (hersteller : string, anzahlTueren : int) =\n",
"\n",
"    inherit Fahrzeug(hersteller)\n",
"\n",
"    member self.AnzahlTueren = anzahlTueren\n",
"\n",
"    new() = Auto(\"Mercedes\",4)\n"]
          }
,
          {
           "cell_type": "markdown",
           "metadata": {},
           
           "source": ["### Subtask 2.2.2\n",
"\n",
"Erstelle eine Funktion, welche einen Parameter des Typs `Fahrzeug` enthält und die Methode `Fahren` dieses Fahrzeuges ausführt.\n",
"\n",
"\n"]
          }
,
          {
           "cell_type": "code",
           "metadata": {},
            "execution_count": 10, "outputs": [], 
           "source": ["let fahren (fahrzeug : #Fahrzeug) =\n",
"\n",
"    fahrzeug.Fahren()\n"]
          }
,
          {
           "cell_type": "markdown",
           "metadata": {},
           
           "source": ["### Subtask 2.2.3\n",
"\n",
"Erstelle ein `Auto` und binde en an einen Namen. Dann wende die oben definierte Funktion zum `Fahren` darauf an.\n",
"\n",
"\n"]
          }
,
          {
           "cell_type": "code",
           "metadata": {},
            "execution_count": 11, "outputs": [], 
           "source": ["let car3 = new Auto(\"Toyota\", 3)\n",
"\n",
"fahren car3\n"]
          }
,
          {
           "cell_type": "markdown",
           "metadata": {},
           
           "source": ["### Task 2.3 (Bonusaufgabe) Veränderliche Werte in Objekten\n",
"\n",
"Deklariere eine Klasse `Cabrio` die vom Typ `Fahrzeug` erbt. \n",
"\n",
"Diese Klasse soll ein Feld `DachOffen` vom Typ `bool` haben und zusätzlich Methoden, mit denen man das Dach öffnen und schließen kann\n",
"\n",
"\n"]
          }
,
          {
           "cell_type": "code",
           "metadata": {},
            "execution_count": 12, "outputs": [], 
           "source": ["// Lösung über Feld nur mit get (default), und Methoden die das Verhalten regeln (bevorzugt)\n",
"type Cabrio (hersteller:string, tueren:int) =\n",
"\n",
"    inherit Auto(hersteller,tueren)\n",
"\n",
"    let mutable dachOffen = false\n",
"\n",
"    // Feld abrufbar aber nicht verwänderbar\n",
"    member this.DachOffen = dachOffen\n",
"\n",
"    // Methoden, zur gezielten Zustandsänderung\n",
"    member self.Oeffnen() = \n",
"        if dachOffen then printfn \"Das Dach ist bereits offen!\"\n",
"        else printfn \"Das Dach ist jetzt offen.\"\n",
"        dachOffen \u003c- true\n",
"\n",
"    member self.Schliessen() = \n",
"        if dachOffen then printfn \"Das Dach ist jetzt zu!\"\n",
"        else printfn \"Das Dach ist schon zu!\"\n",
"        dachOffen \u003c- false        \n",
"\n",
"    // Methoden, zum automatischen Zustandswechsel\n",
"    member this.DachBetaetigen() =\n",
"        if dachOffen = true then \n",
"            dachOffen \u003c- false\n",
"        else\n",
"            dachOffen \u003c- true\n",
"\n",
"// Zusätzliche Hilfsfunktionen\n",
"let dachSchliessen (c:Cabrio) = \n",
"    c.Schliessen()\n",
"\n",
"let dachOeffnen (c:Cabrio) = \n",
"    c.Oeffnen()\n",
"\n",
"\n",
"let neuesCabrio = new Cabrio(\"Audi\",4)\n",
"\n",
"dachOeffnen neuesCabrio\n",
"\n",
"\n",
"\n",
"// Lösung über Feld mit get/set, ohne Methoden\n",
"type Cabrio2 (hersteller:string, tueren:int) =\n",
"\n",
"    inherit Auto(hersteller,tueren)\n",
"\n",
"    let mutable dachOffen = false\n",
"\n",
"    // Feld abrufbar und verwänderbar\n",
"    member this.DachOffen\n",
"        with get () = dachOffen\n",
"        and set (v) = dachOffen \u003c- v\n",
"\n",
"// In diesem Fall müssten die Funktionen die Logik selbst tragen\n",
"let dachOeffnen2 (c:Cabrio2) = \n",
"    if c.DachOffen then printfn \"Das Dach ist bereits offen!\"\n",
"    else printfn \"Das Dach ist jetzt offen.\"\n",
"    c.DachOffen \u003c- true\n",
"\n",
"let dachSchliessen2 (c:Cabrio2) = \n",
"    if c.DachOffen then printfn \"Das Dach ist jetzt zu!\"\n",
"    else printfn \"Das Dach ist schon zu!\"\n",
"    c.DachOffen \u003c- false       \n",
"\n",
"let neuesCabrio2 = new Cabrio2(\"Audi\",4)\n",
"\n",
"dachOeffnen2 neuesCabrio2 \n"]
          }
,
          {
           "cell_type": "markdown",
           "metadata": {},
           
           "source": ["## Polymorphismus\n",
"\n",
"### Task 3.1\n",
"\n",
"Wir wollen hier Personen implementieren, die ihren Namen sagen können. In Japan wird auch im alltäglichen Leben normalerweise der Familienname vor dem Eigennamen genannt. \n",
"So ist Yoko Ono in Japan als Ono Yoko bekannt. Um diesen Unterschied programmatisch darzustellen, wurde der Code folgendermassen geschrieben:\n",
"\n",
"Ordne die folgenden Begriffen den zugehörigen Codebausteinen zu: `Klassendeklaration`, `Objektinstanziierung`, `Interfacedeklaration`\n",
"\n",
"\n",
"\n"]
          }
,
          {
           "cell_type": "code",
           "metadata": {},
            "execution_count": 13, "outputs": [], 
           "source": ["// Bezeichnung: Interfacedeklaration\n",
"type IPerson =\n",
"    abstract FamilienName   : string\n",
"    abstract EigenName      : string\n",
"    abstract NamenSagen     : unit -\u003e string\n",
"\n",
"// Bezeichnung: Klassendeklaration\n",
"type Japaner (fn, en) =\n",
"    let familienName = fn\n",
"    let eigenName = en\n",
"    interface IPerson with\n",
"        member self.FamilienName = familienName\n",
"        member self.EigenName = eigenName\n",
"        member self.NamenSagen () = familienName + \" \" + eigenName\n",
"\n",
"// Bezeichnung: Klassendeklaration\n",
"type Deutscher (fn, en) =\n",
"    let familienName = fn\n",
"    let eigenName = en\n",
"    interface IPerson with\n",
"        member self.FamilienName = familienName\n",
"        member self.EigenName = eigenName\n",
"        member self.NamenSagen () = eigenName + \" \" + familienName\n",
"\n",
"// Bezeichnung: Objektinstanziierung\n",
"let yokoOno = Japaner(\"Ono\",\"Yoko\")\n",
"\n",
"// Bezeichnung: Objektinstanziierung\n",
"let angeloMerte = Deutscher(\"Merte\",\"Angelo\")\n"]
          }
,
          {
           "cell_type": "markdown",
           "metadata": {},
           
           "source": ["### Task 3.2\n",
"\n",
"Greife auf die Methode `NamenSagen` der beiden Personen zu. \n",
"Tipp: Verwende den korrekten `casting Operator`\n",
"\n",
"\n"]
          }
,
          {
           "cell_type": "code",
           "metadata": {},
            "execution_count": 14, "outputs": [], 
           "source": ["// Variante1\n",
"let say = yokoOno :\u003e IPerson\n",
"say.NamenSagen()\n",
"\n",
"// Variante2\n",
"(angeloMerte :\u003e IPerson).NamenSagen()\n",
"\n",
"// Variante3\n",
"let namenSagen (p : #IPerson) =\n",
"    p.NamenSagen()\n",
"\n",
"namenSagen yokoOno\n"]
          }
,
          {
           "cell_type": "markdown",
           "metadata": {},
           
           "source": ["### Task 3.3\n",
"\n",
"Erkläre kurz in eigenen Worten, warum in diesem Beispiel Polymorphismus verwendet wurde und nicht Vererbung.\n",
"\n",
"\n"]
          }
,
          {
           "cell_type": "code",
           "metadata": {},
            "execution_count": 15, "outputs": [], 
           "source": ["// In diesem Fall sollen alle Personen die gleiche Methode `NamenSagen` besitzen. Was genau in der Methode passiert soll aber je nach Nationalität unterschiedlich sein.\n",
"// Bei Vererbung würde das Verhalten der Methode einmal definiert werden und alle erbenden Personen würde den Namen auf die gleich Weise sagen.\n",
"// Polymorphismus erlaubt es, dass das konkrete Verhalten sich für die gleich benutzbare Methode zwischen den Leuten unterscheidet.\n"]
          }
,
          {
           "cell_type": "markdown",
           "metadata": {},
           
           "source": ["### Task 3.4\n",
"\n",
"Im fernen Land Dingeldongel wird wie auch in Deutschland erst der Eigenname und dann der Familienname genannt. Beide werden jedoch revertiert. (Angela Merkel -\u003e alegnA lekreM)\n",
"\n",
"Deklariere die Klasse `Dingeldongler`, die das Interface `IPerson` implementiert.\n",
"\n",
"Tipp: Verwende die gegebene string-revertier Funktion\n",
"\n",
"\n",
"\n"]
          }
,
          {
           "cell_type": "code",
           "metadata": {},
            "execution_count": 16, "outputs": [], 
           "source": ["let revert (s:string) = System.String(s.ToCharArray() |\u003e Array.rev)\n",
"\n",
"type Dingeldongler (fn, en) =\n",
"    let familienName = fn\n",
"    let eigenName = en \n",
"    interface IPerson with\n",
"        member self.FamilienName = familienName\n",
"        member self.EigenName = eigenName\n",
"        member self.NamenSagen () = revert eigenName + \" \" + revert familienName\n",
"\n",
"let amblimKamblim = Dingeldongler(\"Kamblim\", \"Amblim\")\n",
"(amblimKamblim :\u003e IPerson).NamenSagen()\n"]
          }],
            "metadata": {
            "kernelspec": {"display_name": ".NET (F#)", "language": "F#", "name": ".net-fsharp"},
            "langauge_info": {
        "file_extension": ".fs",
        "mimetype": "text/x-fsharp",
        "name": "C#",
        "pygments_lexer": "fsharp",
        "version": "4.5"
        }
        },
            "nbformat": 4,
            "nbformat_minor": 1
        }
        

