
        {
            "cells": [
          {
           "cell_type": "markdown",
           "metadata": {},
           
           "source": ["// can\u0027t yet format YamlFrontmatter ([\"title: 02 Functions and Data types\"; \"category: Musterlösungen(deutsch)\"; \"categoryindex: 1\"; \"index: 2\"], Some { StartLine = 2 StartColumn = 0 EndLine = 6 EndColumn = 8 }) to pynb markdown\n",
"\n",
"[![Binder](/BIO-BTE-12-V-4-SOLUTIONS/img/badge-binder.svg)](https://mybinder.org/v2/gh/csbiology/BIO-BTE-12-V-4/gh-pages?filepath=task-solutions/german/wpb-task-02-solution.ipynb)\u0026emsp;\n",
"[![Script](/BIO-BTE-12-V-4-SOLUTIONS/img/badge-script.svg)](/BIO-BTE-12-V-4-SOLUTIONS/task-solutions/german/wpb-task-02-solution.fsx)\u0026emsp;\n",
"[![Notebook](/BIO-BTE-12-V-4-SOLUTIONS/img/badge-notebook.svg)](/BIO-BTE-12-V-4-SOLUTIONS/task-solutions/german/wpb-task-02-solution.ipynb)\n",
"\n",
"# Task02 - Functions and Data types\n",
"\n",
"## Tuples\n",
"\n",
"### Task 1.1:\n",
"\n",
"Deklariere einen Tuple aus 2. und \"Februar\" und binde den Tuple an den Namen `tuple1`.\n",
"\n"]
          }
,
          {
           "cell_type": "code",
           "metadata": {},
            "execution_count": 1, "outputs": [], 
           "source": ["let tuple1 = 2.,\"Februar\"\n"]
          }
,
          {
           "cell_type": "markdown",
           "metadata": {},
           
           "source": ["### Task 1.2:\n",
"\n",
"Deklariere einen Tuple aus 2., \"Februar\" und \"Fruehling\" und bindet ihn an den Namen `tuple2`.\n",
"\n"]
          }
,
          {
           "cell_type": "code",
           "metadata": {},
            "execution_count": 2, "outputs": [], 
           "source": ["let tuple2 = 2.,\"Februar\",\"Fruehling\"\n"]
          }
,
          {
           "cell_type": "markdown",
           "metadata": {},
           
           "source": ["### Task 1.3:\n",
"\n",
"Greife auf den zweiten Wert des Tuples aus 1.1 zu.\n",
"\n"]
          }
,
          {
           "cell_type": "code",
           "metadata": {},
            "execution_count": 3, "outputs": [], 
           "source": ["snd tuple1\n",
"\n",
"// oder\n",
"\n",
"tuple1 |\u003e fun (x,y) -\u003e y\n"]
          }
,
          {
           "cell_type": "markdown",
           "metadata": {},
           
           "source": ["### Task 1.4:\n",
"\n",
"Bindet `tuple1` aus Task 1.1 an: `(output1,output2)`\n",
"Warum kann das sinnvoll sein?\n",
"Stichwort: Tuple Deconstruction.\n",
"\n"]
          }
,
          {
           "cell_type": "code",
           "metadata": {},
            "execution_count": 4, "outputs": [], 
           "source": ["let output1,output2 = tuple1\n",
"\n",
"output2\n",
"\n",
"// Sinnvoll, weil man damit aus einem Tupel direkt das Element an einen Namen bindet statt an späterer Stelle immer wieder umständlich auf der jeweilige Element zugreifen zu müssen.\n"]
          }
,
          {
           "cell_type": "markdown",
           "metadata": {},
           
           "source": ["## Record Types\n",
"\n",
"### Task 2.1: \n",
"\n",
"Definiere einen Record Type mit dem Namen `Person`. Person soll die Felder `Name`(string) und `Alter`(int) haben.\n",
"Bei Record Types wird kein camel case, sondern pascal case verwendet (wie camel case nur ist der erste Buchstabe auch groß).\n",
"\n"]
          }
,
          {
           "cell_type": "code",
           "metadata": {},
            "execution_count": 5, "outputs": [], 
           "source": ["type Person = {\n",
"    Name    : string\n",
"    Alter   : int\n",
"}\n"]
          }
,
          {
           "cell_type": "markdown",
           "metadata": {},
           
           "source": ["### Task 2.2:\n",
"\n",
"Erstellt einen Wert des Typs `Person` mit ausgedachten Feldwerten und bindet ihn an den Namen `meinePerson1`.\n",
"Greift auf das Feld `Alter` von `meinePerson1` zu.\n",
"\n"]
          }
,
          {
           "cell_type": "code",
           "metadata": {},
            "execution_count": 6, "outputs": [], 
           "source": ["let meinePerson1 = {\n",
"    Name    = \"Max Mustermann\"\n",
"    Alter   = 37\n",
"}\n",
"\n",
"meinePerson1.Alter\n"]
          }
,
          {
           "cell_type": "markdown",
           "metadata": {},
           
           "source": ["### Task 2.3:\n",
"\n",
"Deklariere eine Funktion die zwei Inputparameter erhaelt und als Rueckgabewert eine `Person` gibt.\n",
"Binde ein Ergebnis dieser Funktion an den Namen `meinePerson2`.\n",
"\n"]
          }
,
          {
           "cell_type": "code",
           "metadata": {},
            "execution_count": 7, "outputs": [], 
           "source": ["let erzeugePerson name alter = {\n",
"    Name    = name\n",
"    Alter   = alter\n",
"}\n",
"\n",
"let meinePerson2 = erzeugePerson \"Eva Mustermann\" 13\n"]
          }
,
          {
           "cell_type": "markdown",
           "metadata": {},
           
           "source": ["### Task 2.4:\n",
"\n",
"Definiere einen weiteren Record Type mit dem Namen `ErweitertePerson`. ErweitertePerson soll die gleichen Felder wie `Person`\n",
"haben, bekommt aber noch das zusaetzliche Feld `Hobby`. Da man alles zu seinem Hobby machen kann, soll\n",
"\u0027Hobby\u0027 vom Typ generic type sein.\n",
"Tipp: Zwischen dem Namen des Record types und `=` muss der generic type durch `\u003c\u0027a\u003e` angegeben werden\n",
"\n"]
          }
,
          {
           "cell_type": "code",
           "metadata": {},
            "execution_count": 8, "outputs": [], 
           "source": ["type ErweitertePerson\u003c\u0027a\u003e = {\n",
"    Name    : string\n",
"    Alter   : int\n",
"    Hobby   : \u0027a\n",
"}\n"]
          }
,
          {
           "cell_type": "markdown",
           "metadata": {},
           
           "source": ["### Task 2.5\n",
"\n",
"Erstellt einen Wert des Typs `ErweitertePerson`.\n",
"\n"]
          }
,
          {
           "cell_type": "code",
           "metadata": {},
            "execution_count": 9, "outputs": [], 
           "source": ["let meinePerson3 = {\n",
"    Name    = \"Otto Normalbürger\"\n",
"    Alter   = 50\n",
"    Hobby   = \"Fußball gucken\"\n",
"}\n"]
          }
,
          {
           "cell_type": "markdown",
           "metadata": {},
           
           "source": ["## Signatures\n",
"\n",
"### Task 3.1\n",
"\n",
"Deklariere eine beliebige Funktion mit der Signatur `int -\u003e int`.\n",
"\n"]
          }
,
          {
           "cell_type": "code",
           "metadata": {},
            "execution_count": 10, "outputs": [], 
           "source": ["let beliebigeFunktion x = x + 1\n"]
          }
,
          {
           "cell_type": "markdown",
           "metadata": {},
           
           "source": ["### Task 3.2\n",
"\n",
"Deklariere eine beliebige Funktion mit der Signatur `int -\u003e (int -\u003e int) -\u003e float`.\n",
"\n"]
          }
,
          {
           "cell_type": "code",
           "metadata": {},
            "execution_count": 11, "outputs": [], 
           "source": ["let beliebigeFunktion2 x (andereFunktion : int -\u003e int) = andereFunktion x |\u003e float\n"]
          }
,
          {
           "cell_type": "markdown",
           "metadata": {},
           
           "source": ["### Task 3.3\n",
"\n",
"Beschreibe den Rueckgabewert einer Funktion mit folgender Signatur `char -\u003e (string -\u003e char -\u003e float)`.\n",
"\n"]
          }
,
          {
           "cell_type": "code",
           "metadata": {},
            "execution_count": 12, "outputs": [], 
           "source": ["// Der Rückgabewert ist eine Funktion, die einen Parameter vom Typ \u0027string\u0027 und einen vom Typ \u0027char\u0027 nimmt und einen float zurückgibt.\n"]
          }
,
          {
           "cell_type": "markdown",
           "metadata": {},
           
           "source": ["## Collection types\n",
"\n",
"### Task 4.1\n",
"\n",
"Erstelle eine int Liste mit den Zahlen 1 bis 100 und binde sie an einen Namen.\n",
"\n"]
          }
,
          {
           "cell_type": "code",
           "metadata": {},
            "execution_count": 13, "outputs": [], 
           "source": ["let meineListe = [1 .. 100]\n",
"\n",
"// oder\n",
"\n",
"let meineListe\u0027 = List.init 100 (fun i -\u003e i + 1)\n"]
          }
,
          {
           "cell_type": "markdown",
           "metadata": {},
           
           "source": ["### Task 4.2\n",
"\n",
"Binde das erste und das letzte Element der Liste an je einen Namen.\n",
"\n"]
          }
,
          {
           "cell_type": "code",
           "metadata": {},
            "execution_count": 14, "outputs": [], 
           "source": ["let erstesElement = meineListe.[0]\n",
"let letztesElement = meineListe.[99] // erfordert, zu wissen, wie viele Elemente die Liste hat\n",
"\n",
"// oder\n",
"\n",
"let erstesElement\u0027 = List.item 0 meineListe\n",
"let letztesElement\u0027 = List.item 99 meineListe // erfordert, zu wissen, wie viele Elemente die Liste hat\n",
"\n",
"// oder \n",
"\n",
"let erstesElement\u0027\u0027 = List.head meineListe\n",
"let letztesElement\u0027\u0027 = List.last meineListe\n"]
          }
,
          {
           "cell_type": "markdown",
           "metadata": {},
           
           "source": ["### Task 4.3\n",
"\n",
"Erstelle ein float Array mit den Zahlen von 1. bis 100. und binde es an einen Namen.\n",
"\n"]
          }
,
          {
           "cell_type": "code",
           "metadata": {},
            "execution_count": 15, "outputs": [], 
           "source": ["let meinArray = [|1. .. 100.|]\n",
"\n",
"// oder\n",
"\n",
"let meinArray\u0027 = Array.init 100 (fun i -\u003e i + 1 |\u003e float)\n"]
          }
,
          {
           "cell_type": "markdown",
           "metadata": {},
           
           "source": ["### Task 4.4\n",
"\n",
"Binde das 15. Element des Arrays aus 4.3 an einen Namen.\n",
"\n"]
          }
,
          {
           "cell_type": "code",
           "metadata": {},
            "execution_count": 16, "outputs": [], 
           "source": ["let fuenfzehntesElement = meinArray.[14]\n",
"\n",
"// oder\n",
"\n",
"let fuenfzehntesElement\u0027 = Array.item 14 meinArray\n",
"\n",
"// oder\n",
"\n",
"let fuenfzehntesElement\u0027\u0027 = Array.get meinArray 14\n"]
          }
,
          {
           "cell_type": "markdown",
           "metadata": {},
           
           "source": ["### Task 4.5\n",
"\n",
"Erstelle eine Map, die alle Monate enthaelt. Verwende dafuer die Zahl des Monats (integer) als Key und den Namen (string) als Value.\n",
"\n"]
          }
,
          {
           "cell_type": "code",
           "metadata": {},
            "execution_count": 17, "outputs": [], 
           "source": ["let alleMonate = Map [\n",
"    1, \"Januar\"\n",
"    2, \"Februar\"\n",
"    3, \"Maerz\"\n",
"    4, \"April\"\n",
"    5, \"Mai\"\n",
"    6, \"Juni\"\n",
"    7, \"Juli\"\n",
"    8, \"August\"\n",
"    9, \"September\"\n",
"    10, \"Oktober\"\n",
"    11, \"November\"\n",
"    12, \"Dezember\"\n",
"]\n"]
          }
,
          {
           "cell_type": "markdown",
           "metadata": {},
           
           "source": ["### Task 4.6\n",
"\n",
"Ueberpruefe anhand eines geeigneten Keys, ob der Monat Maerz in der Map vorhanden ist.\n",
"\n"]
          }
,
          {
           "cell_type": "code",
           "metadata": {},
            "execution_count": 18, "outputs": [], 
           "source": ["alleMonate.[3] = \"Maerz\"\n",
"\n",
"// oder\n",
"\n",
"Map.containsKey 3 alleMonate // ob es sich beim Value an der Stelle des Keys 3 jedoch um Maerz oder etwas anderes handelt, wird nicht beantwortet\n",
"\n",
"// oder\n",
"\n",
"Map.exists (fun key value -\u003e key = 3 \u0026\u0026 value = \"Maerz\") alleMonate\n"]
          }
,
          {
           "cell_type": "markdown",
           "metadata": {},
           
           "source": ["### Task 4.7\n",
"\n",
"Erstelle zwei Sets. Eins mit Zahlen von 1 bis 10 und eins mit Zahlen von 3 bis 7 und binde sie an je einen Namen.\n",
"\n"]
          }
,
          {
           "cell_type": "code",
           "metadata": {},
            "execution_count": 19, "outputs": [], 
           "source": ["let set1bis10 = Set [1 .. 10]\n",
"\n",
"let set3bis7 = Set [3 .. 7]\n"]
          }
,
          {
           "cell_type": "markdown",
           "metadata": {},
           
           "source": ["### Task 4.8 \n",
"\n",
"Vergleicht die zuvor erstellten Sets. Bildet die Schnittmenge (intersect) und die Vereinigungsmenge (union) aus beiden Sets und bindet sie an je einen Namen.\n",
"Tipp: Nutzt das Set Modul um durch \u0027reindotten\u0027 geeignete Funktionen zu erhalten.\n",
"\n"]
          }
,
          {
           "cell_type": "code",
           "metadata": {},
            "execution_count": 20, "outputs": [], 
           "source": ["let meineSchnittmenge = Set.intersect set1bis10 set3bis7\n",
"\n",
"let meineVereinigungsmenge = Set.union set1bis10 set3bis7\n"]
          }],
            "metadata": {
            "kernelspec": {"display_name": ".NET (F#)", "language": "F#", "name": ".net-fsharp"},
            "langauge_info": {
        "file_extension": ".fs",
        "mimetype": "text/x-fsharp",
        "name": "C#",
        "pygments_lexer": "fsharp",
        "version": "4.5"
        }
        },
            "nbformat": 4,
            "nbformat_minor": 1
        }
        

