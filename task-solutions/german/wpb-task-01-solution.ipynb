
        {
            "cells": [
          {
           "cell_type": "markdown",
           "metadata": {},
           
           "source": ["// can\u0027t yet format YamlFrontmatter ([\"title: 01 Hello F#\"; \"category: Musterl�sungen(deutsch)\"; \"categoryindex: 1\"; \"index: 1\"], Some { StartLine = 2 StartColumn = 0 EndLine = 6 EndColumn = 8 }) to pynb markdown\n",
"\n",
"[![Binder](/BIO-BTE-12-V-4-SOLUTIONS/img/badge-binder.svg)](https://mybinder.org/v2/gh/csbiology/BIO-BTE-12-V-4/gh-pages?filepath=task-solutions/german/wpb-task-01-solution.ipynb)\u0026emsp;\n",
"[![Script](/BIO-BTE-12-V-4-SOLUTIONS/img/badge-script.svg)](/BIO-BTE-12-V-4-SOLUTIONS/task-solutions/german/wpb-task-01-solution.fsx)\u0026emsp;\n",
"[![Notebook](/BIO-BTE-12-V-4-SOLUTIONS/img/badge-notebook.svg)](/BIO-BTE-12-V-4-SOLUTIONS/task-solutions/german/wpb-task-01-solution.ipynb)\n",
"\n",
"\n",
"# Task01 - Hello F#\n",
"-------------------------------\n",
"Erst einmal die absoluten Basics:\n",
"- **In einem .fsx script:** \n",
"    Markiert die \u002710\u0027, und drueckt Alt+Enter, dann sollte sich die interaktive Konsole oeffnen und euer \n",
"    Output sollte \u0027val it: int = 10\u0027 sein.\n",
"    (Bei einzeiligem Code koennt ihr auch einfach die Zeile auswaehlen und Alt+Enter druecken ohne das alles markiert ist.)\n",
"- **In einem Notebook:**\n",
"    Links von dem Feld unten das die \u002710\u0027 beinhaltet befindet sich ein \u0027play\u0027 Knopf. \n",
"    Dieser Knopf f�hrt beim dr�cken den jeweiligen Code-block aus und gibt das Ergebnis (hier: 10) darunter aus.\n",
"    **Codebl�cke in notebooks m�ssen immer mit dem Wert enden, der ausgegben werden soll.**\n",
"\n"]
          }
,
          {
           "cell_type": "code",
           "metadata": {},
            "execution_count": 1, "outputs": [], 
           "source": ["10\n"]
          }
,
          {
           "cell_type": "markdown",
           "metadata": {},
           
           "source": ["Auf diese Weise koennt ihr Code den ihr geschrieben habt, direkt testen und euch den Output ansehen.\n",
"Versucht das mal mit der folgenden Zeile und ihr werdet sehen, dass das Ergebnis direkt ausgerechnet wird und 30 ist.\n",
"\n"]
          }
,
          {
           "cell_type": "code",
           "metadata": {},
            "execution_count": 2, "outputs": [], 
           "source": ["10 + 20\n"]
          }
,
          {
           "cell_type": "markdown",
           "metadata": {},
           
           "source": ["Alles was ihr hinter `//` oder innerhalb von `(* ... *)` schreibt ist ein Kommentar und wird nicht als Code ausgefuehrt.\n",
"Ihr koennt auch Teile einer Zeile mit `(* ... *)` auskommentieren. \n",
"Die Standardtastenkombination zum auskommentieren ist (Strg + K -\u003e Strg + C)\n",
"\n"]
          }
,
          {
           "cell_type": "code",
           "metadata": {},
            "execution_count": 3, "outputs": [], 
           "source": ["10 (*+ 40 *) + 30\n"]
          }
,
          {
           "cell_type": "markdown",
           "metadata": {},
           
           "source": ["Solltet ihr bei einer Uebung nicht auf die Loesung kommen, lasst auf jeden Fall euren Loesungsansatz stehen!\n",
"## Das \u0027let\u0027-Binding\n",
"## Task 1\n",
"### Task 1.1\n",
"Binde den Wert 10 an den Namen \u0027x\u0027. Binde den Wert 20 an den Namen \u0027kaesebrot\u0027.\n",
"\n"]
          }
,
          {
           "cell_type": "code",
           "metadata": {},
            "execution_count": 4, "outputs": [], 
           "source": ["let x = 10\n",
"\n",
"let kaesebrot = 20\n"]
          }
,
          {
           "cell_type": "markdown",
           "metadata": {},
           
           "source": ["### Task 1.2\n",
"Binde das Ergebnis der Addition von \u0027x\u0027 mit dem Wert 10 an \u0027y\u0027.\n",
"\n"]
          }
,
          {
           "cell_type": "code",
           "metadata": {},
            "execution_count": 5, "outputs": [], 
           "source": ["let y = x + 10\n"]
          }
,
          {
           "cell_type": "markdown",
           "metadata": {},
           
           "source": ["### Task 1.3\n",
"Binde einen Vornamen als string an \u0027vorname\u0027.\n",
"\n"]
          }
,
          {
           "cell_type": "code",
           "metadata": {},
            "execution_count": 6, "outputs": [], 
           "source": ["let vorname = \"Vorname\"\n"]
          }
,
          {
           "cell_type": "markdown",
           "metadata": {},
           
           "source": ["### Task 1.4\n",
"Berechne den Rest aus 432858049/41 und binde das Ergebnis an \u0027modulo\u0027\n",
"\n"]
          }
,
          {
           "cell_type": "code",
           "metadata": {},
            "execution_count": 7, "outputs": [], 
           "source": ["let modulo = 432858049%41\n"]
          }
,
          {
           "cell_type": "markdown",
           "metadata": {},
           
           "source": ["### Task 1.5\n",
"Binde die Summe der jeweiligen Summen aus x + 10 und y + 20 an den Namen \u0027summeXY\u0027. \n",
"Die Zwischenergebnisse sollten nicht im globalen Sichtbarkeitsbereich (Scope) liegen.\n",
"\n"]
          }
,
          {
           "cell_type": "code",
           "metadata": {},
            "execution_count": 8, "outputs": [], 
           "source": ["let summeXY =\n",
"    let summeX = x + 10\n",
"    let summeY = y + 20\n",
"    summeX + summeY\n",
"\n",
"// oder k�rzer und ohne zwischenErgebnis:\n",
"let summeXY\u0027 = x + 10 + y + 20\n"]
          }
,
          {
           "cell_type": "markdown",
           "metadata": {},
           
           "source": ["## Die \"printfn\" - Funktion\n",
"### Task 2\n",
"_Tipp: https://docs.microsoft.com/de-de/dotnet/fsharp/language-reference/plaintext-formatting_\n",
"### Task 2.1:  \n",
"Benutze die printfn - Funktion um \"Hallo F#\" in die Konsole auszugeben.\n",
"\n"]
          }
,
          {
           "cell_type": "code",
           "metadata": {},
            "execution_count": 9, "outputs": [], 
           "source": ["printfn \"Hallo F#\"\n"]
          }
,
          {
           "cell_type": "markdown",
           "metadata": {},
           
           "source": ["### Task 2.2:  \n",
"Benutze die printfn - Funktion um den Wert von \u0027vorname\u0027 in die Konsole auszugeben.\n",
"\n"]
          }
,
          {
           "cell_type": "code",
           "metadata": {},
            "execution_count": 10, "outputs": [], 
           "source": ["printfn \"%s\" vorname\n"]
          }
,
          {
           "cell_type": "markdown",
           "metadata": {},
           
           "source": ["### Task 2.3:  \n",
"Benutzt printfn um \u0027y\u0027 in die Konsole auszugeben.\n",
"\n"]
          }
,
          {
           "cell_type": "code",
           "metadata": {},
            "execution_count": 11, "outputs": [], 
           "source": ["printfn \"%i\" y\n"]
          }
,
          {
           "cell_type": "markdown",
           "metadata": {},
           
           "source": ["## Primitive Datentypen und Funktionen\n",
"### Task 3\n",
"### Task 3.1\n",
"Binde einen beliebigen Wert vom Typ Integer an den Namen intI.\n",
"\n"]
          }
,
          {
           "cell_type": "code",
           "metadata": {},
            "execution_count": 12, "outputs": [], 
           "source": ["let intI = 1\n"]
          }
,
          {
           "cell_type": "markdown",
           "metadata": {},
           
           "source": ["### Task 3.2\n",
"Binde einen beliebigen Wert vom Typ Float an den Namen floatI.\n",
"\n"]
          }
,
          {
           "cell_type": "code",
           "metadata": {},
            "execution_count": 13, "outputs": [], 
           "source": ["let floatI = 2.\n"]
          }
,
          {
           "cell_type": "markdown",
           "metadata": {},
           
           "source": ["### Task 3.3\n",
"Wandelt entweder intI oder floatI in den Datentyp des anderen um und addiert beide.\n",
"\n"]
          }
,
          {
           "cell_type": "code",
           "metadata": {},
            "execution_count": 14, "outputs": [], 
           "source": ["intI + int floatI\n",
"\n",
"// oder:\n",
"float intI + floatI\n"]
          }
,
          {
           "cell_type": "markdown",
           "metadata": {},
           
           "source": ["### Task 3.4\n",
"Berechne den Quotienten aus \u002727\u0027 und \u002713\u0027. Dann berechne den Quotienten von beiden Integern als Float.\n",
"\n"]
          }
,
          {
           "cell_type": "code",
           "metadata": {},
            "execution_count": 15, "outputs": [], 
           "source": ["27 / 13\n",
"\n",
"float 27 / float 13\n"]
          }
,
          {
           "cell_type": "markdown",
           "metadata": {},
           
           "source": ["### Task 3.5:\n",
"Konkateniere einen beliebigen Wert vom Typ String mit einem einzelnem Buchstaben (Typ Char)\n",
"\n"]
          }
,
          {
           "cell_type": "code",
           "metadata": {},
            "execution_count": 16, "outputs": [], 
           "source": ["\"myStrin\" + string \u0027g\u0027\n"]
          }
,
          {
           "cell_type": "markdown",
           "metadata": {},
           
           "source": ["### Task 3.6:\n",
"Deklariere eine Funktion \u0027mulitplyBy2\u0027 die einen float verdoppelt. \n",
"\n"]
          }
,
          {
           "cell_type": "code",
           "metadata": {},
            "execution_count": 17, "outputs": [], 
           "source": ["let multiplyBy2 (x:float) = 2.0 * x\n"]
          }
,
          {
           "cell_type": "markdown",
           "metadata": {},
           
           "source": ["### Task 3.7:  \n",
"Deklariere eine Funktion \u0027calculateCylinderVolume\u0027 die aus Radius und Laenge das Volumen eines Zylinders \n",
"zurueckgibt UND zusaetzlich \"Das Volumen des Zylinders ist: XX\" in die Konsole printed. Wobei XX natuerlich \n",
"das korrekte Volumen des Zylinders ist. (Der Output einer printfn Funktion ist Unit.)\n",
"Warum kann es Sinn machen, Ergebnisse zu printen? \n",
"\n"]
          }
,
          {
           "cell_type": "code",
           "metadata": {},
            "execution_count": 18, "outputs": [], 
           "source": ["// M�gliche Antwort: die print Funktion erlaubt es Zwischenergebnisse zu visualisieren.\n",
"let calculateCylinderVolume radius laenge =\n",
"    let volumen = System.Math.PI * radius * radius * laenge\n",
"    printfn \"Das Volumen des Zylinders ist: %f\" volumen\n",
"    // Der R�ckgabewert ist gleich dem Wert der an Volumen gebunden wurde\n",
"    volumen\n"]
          }
,
          {
           "cell_type": "markdown",
           "metadata": {},
           
           "source": ["### Task 3.8:  \n",
"Deklariere eine Funktion die einen Parameter vom Typ Integer als Input nimmt und die \u0027multiplyBy2\u0027 \n",
"Funtkion darauf anwendet\n",
"\n"]
          }
,
          {
           "cell_type": "code",
           "metadata": {},
            "execution_count": 19, "outputs": [], 
           "source": ["let multiplyBy2Two x = multiplyBy2 (float x)\n"]
          }
,
          {
           "cell_type": "markdown",
           "metadata": {},
           
           "source": ["### Task 3.9:  \n",
"Deklariere eine Funktion die als Input zwei Parameter vom Typ Float, einen Vergleichsoperator z.B. \n",
"(\u003c, \u003e, = ), und einen Parameter vom Typ Boolean akzeptiert. Das Ergebnis aus der Anwendung des angegebenen \n",
"Operators auf die numerischen Parameter soll mit dem Parameter vom Typ Boolean auf Gleichheit ueberprueft werden.\n",
"(_2 Punkte_)\n",
"\n"]
          }
,
          {
           "cell_type": "code",
           "metadata": {},
            "execution_count": 20, "outputs": [], 
           "source": ["let compare (x:float) (y:float) (op: float  -\u003e float -\u003e bool) (boolWert:bool) = \n",
"    let tmp = op x y \n",
"    tmp = boolWert\n"]
          }],
            "metadata": {
            "kernelspec": {"display_name": ".NET (F#)", "language": "F#", "name": ".net-fsharp"},
            "langauge_info": {
        "file_extension": ".fs",
        "mimetype": "text/x-fsharp",
        "name": "C#",
        "pygments_lexer": "fsharp",
        "version": "4.5"
        }
        },
            "nbformat": 4,
            "nbformat_minor": 1
        }
        

