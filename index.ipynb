
        {
            "cells": [
          {
           "cell_type": "markdown",
           "metadata": {},
           
           "source": ["# BIO-BTE-12-V-4-Solutions\n",
"\n",
"\u003cbr\u003e\n",
"\u003cbr\u003e\n",
"\n",
"Deutscher titel: **Wissenschaftliche Programmierung für Biolog*innen (Vorlesung/Übung) - Musterlösungen**\n",
"\n",
"English title: **Scientific Programming For Biologists (Lecture \u0026 Exercise) - Solutions**\n",
"\n",
"KIS: [BIO-BTE-12-V-4](https://www.kis.uni-kl.de/campus/all/event.asp?gguid=0xD702B068C88449BEAF7C4E9C1EEE592D\u0026tguid=0xA0CC12CC38514E09833533E643742D94)\n",
"\n",
"**Credit Points (CP): 3**\n"]
          }],
            "metadata": {
            "kernelspec": {"display_name": ".NET (F#)", "language": "F#", "name": ".net-fsharp"},
            "langauge_info": {
        "file_extension": ".fs",
        "mimetype": "text/x-fsharp",
        "name": "C#",
        "pygments_lexer": "fsharp",
        "version": "4.5"
        }
        },
            "nbformat": 4,
            "nbformat_minor": 1
        }
        

